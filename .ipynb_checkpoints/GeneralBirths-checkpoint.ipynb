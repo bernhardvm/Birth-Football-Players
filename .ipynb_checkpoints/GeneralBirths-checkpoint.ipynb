{
 "cells": [
  {
   "cell_type": "markdown",
   "metadata": {},
   "source": [
    "# Data preparation Belgian Births"
   ]
  },
  {
   "cell_type": "markdown",
   "metadata": {},
   "source": [
    "the source data was found in following link: https://statbel.fgov.be/en/open-data?category=51&fbclid=IwAR2Bc-18-cFKEYRbbUA_3lAoFI98mwE2Sb0R0JnLKe5cBv6nVKMmu-5BGvQ"
   ]
  },
  {
   "cell_type": "markdown",
   "metadata": {},
   "source": [
    "### import Excel data"
   ]
  },
  {
   "cell_type": "code",
   "execution_count": 78,
   "metadata": {},
   "outputs": [
    {
     "name": "stdout",
     "output_type": "stream",
     "text": [
      "(10593, 2)\n",
      "DATE          datetime64[ns]\n",
      "NUM_BIRTHS             int64\n",
      "dtype: object\n"
     ]
    }
   ],
   "source": [
    "# import liberaries\n",
    "import pandas as pd\n",
    "\n",
    "birthdates = pd.read_excel(\"Belgium_BIRTHS.xlsx\", index_col = None)\n",
    "#print(birthdates.head())\n",
    "print(birthdates.shape)\n",
    "print(birthdates.dtypes)"
   ]
  },
  {
   "cell_type": "code",
   "execution_count": 79,
   "metadata": {},
   "outputs": [
    {
     "name": "stdout",
     "output_type": "stream",
     "text": [
      "        DATE  NUM_BIRTHS\n",
      "0 1992-01-01         219\n",
      "1 1992-01-02         331\n",
      "2 1992-01-03         420\n",
      "3 1992-01-04         282\n",
      "4 1992-01-05         252\n"
     ]
    }
   ],
   "source": [
    "print(birthdates.head())"
   ]
  },
  {
   "cell_type": "code",
   "execution_count": 124,
   "metadata": {},
   "outputs": [
    {
     "data": {
      "text/html": [
       "<div>\n",
       "<style scoped>\n",
       "    .dataframe tbody tr th:only-of-type {\n",
       "        vertical-align: middle;\n",
       "    }\n",
       "\n",
       "    .dataframe tbody tr th {\n",
       "        vertical-align: top;\n",
       "    }\n",
       "\n",
       "    .dataframe thead th {\n",
       "        text-align: right;\n",
       "    }\n",
       "</style>\n",
       "<table border=\"1\" class=\"dataframe\">\n",
       "  <thead>\n",
       "    <tr style=\"text-align: right;\">\n",
       "      <th></th>\n",
       "      <th>DATE</th>\n",
       "      <th>NUM_BIRTHS</th>\n",
       "      <th>YEAR</th>\n",
       "      <th>MONTH</th>\n",
       "      <th>DAY</th>\n",
       "    </tr>\n",
       "  </thead>\n",
       "  <tbody>\n",
       "    <tr>\n",
       "      <th>0</th>\n",
       "      <td>1992-01-01</td>\n",
       "      <td>219</td>\n",
       "      <td>1992</td>\n",
       "      <td>01</td>\n",
       "      <td>01</td>\n",
       "    </tr>\n",
       "    <tr>\n",
       "      <th>1</th>\n",
       "      <td>1992-01-02</td>\n",
       "      <td>331</td>\n",
       "      <td>1992</td>\n",
       "      <td>01</td>\n",
       "      <td>02</td>\n",
       "    </tr>\n",
       "    <tr>\n",
       "      <th>2</th>\n",
       "      <td>1992-01-03</td>\n",
       "      <td>420</td>\n",
       "      <td>1992</td>\n",
       "      <td>01</td>\n",
       "      <td>03</td>\n",
       "    </tr>\n",
       "    <tr>\n",
       "      <th>3</th>\n",
       "      <td>1992-01-04</td>\n",
       "      <td>282</td>\n",
       "      <td>1992</td>\n",
       "      <td>01</td>\n",
       "      <td>04</td>\n",
       "    </tr>\n",
       "    <tr>\n",
       "      <th>4</th>\n",
       "      <td>1992-01-05</td>\n",
       "      <td>252</td>\n",
       "      <td>1992</td>\n",
       "      <td>01</td>\n",
       "      <td>05</td>\n",
       "    </tr>\n",
       "  </tbody>\n",
       "</table>\n",
       "</div>"
      ],
      "text/plain": [
       "         DATE  NUM_BIRTHS  YEAR MONTH DAY\n",
       "0  1992-01-01         219  1992    01  01\n",
       "1  1992-01-02         331  1992    01  02\n",
       "2  1992-01-03         420  1992    01  03\n",
       "3  1992-01-04         282  1992    01  04\n",
       "4  1992-01-05         252  1992    01  05"
      ]
     },
     "execution_count": 124,
     "metadata": {},
     "output_type": "execute_result"
    }
   ],
   "source": [
    "# create new columns to make data analysis easier\n",
    "\n",
    "# convert date to string to make processing easier\n",
    "birthdates[\"DATE\"] = birthdates[\"DATE\"].astype(\"str\")\n",
    "\n",
    "# create year column\n",
    "birthdates[\"YEAR\"] = birthdates[\"DATE\"].str[0:4]\n",
    "\n",
    "# create month column\n",
    "birthdates[\"MONTH\"] = birthdates[\"DATE\"].str[5:7]\n",
    "birthdates.head()\n",
    "\n",
    "# create day column\n",
    "birthdates[\"DAY\"] = birthdates[\"DATE\"].str[8:10]\n",
    "birthdates.head()"
   ]
  },
  {
   "cell_type": "code",
   "execution_count": 81,
   "metadata": {},
   "outputs": [
    {
     "data": {
      "text/plain": [
       "(10593, 4)"
      ]
     },
     "execution_count": 81,
     "metadata": {},
     "output_type": "execute_result"
    }
   ],
   "source": [
    "birthdates.shape"
   ]
  },
  {
   "cell_type": "code",
   "execution_count": 82,
   "metadata": {},
   "outputs": [
    {
     "data": {
      "text/plain": [
       "DATE          object\n",
       "NUM_BIRTHS     int64\n",
       "YEAR          object\n",
       "MONTH         object\n",
       "dtype: object"
      ]
     },
     "execution_count": 82,
     "metadata": {},
     "output_type": "execute_result"
    }
   ],
   "source": [
    "birthdates.dtypes"
   ]
  },
  {
   "cell_type": "code",
   "execution_count": 125,
   "metadata": {},
   "outputs": [
    {
     "data": {
      "text/html": [
       "<div>\n",
       "<style scoped>\n",
       "    .dataframe tbody tr th:only-of-type {\n",
       "        vertical-align: middle;\n",
       "    }\n",
       "\n",
       "    .dataframe tbody tr th {\n",
       "        vertical-align: top;\n",
       "    }\n",
       "\n",
       "    .dataframe thead th {\n",
       "        text-align: right;\n",
       "    }\n",
       "</style>\n",
       "<table border=\"1\" class=\"dataframe\">\n",
       "  <thead>\n",
       "    <tr style=\"text-align: right;\">\n",
       "      <th></th>\n",
       "      <th>DATE</th>\n",
       "      <th>NUM_BIRTHS</th>\n",
       "      <th>YEAR</th>\n",
       "      <th>MONTH</th>\n",
       "      <th>DAY</th>\n",
       "    </tr>\n",
       "  </thead>\n",
       "  <tbody>\n",
       "    <tr>\n",
       "      <th>0</th>\n",
       "      <td>1992-01-01</td>\n",
       "      <td>219</td>\n",
       "      <td>1992</td>\n",
       "      <td>1</td>\n",
       "      <td>1</td>\n",
       "    </tr>\n",
       "    <tr>\n",
       "      <th>1</th>\n",
       "      <td>1992-01-02</td>\n",
       "      <td>331</td>\n",
       "      <td>1992</td>\n",
       "      <td>1</td>\n",
       "      <td>2</td>\n",
       "    </tr>\n",
       "    <tr>\n",
       "      <th>2</th>\n",
       "      <td>1992-01-03</td>\n",
       "      <td>420</td>\n",
       "      <td>1992</td>\n",
       "      <td>1</td>\n",
       "      <td>3</td>\n",
       "    </tr>\n",
       "    <tr>\n",
       "      <th>3</th>\n",
       "      <td>1992-01-04</td>\n",
       "      <td>282</td>\n",
       "      <td>1992</td>\n",
       "      <td>1</td>\n",
       "      <td>4</td>\n",
       "    </tr>\n",
       "    <tr>\n",
       "      <th>4</th>\n",
       "      <td>1992-01-05</td>\n",
       "      <td>252</td>\n",
       "      <td>1992</td>\n",
       "      <td>1</td>\n",
       "      <td>5</td>\n",
       "    </tr>\n",
       "  </tbody>\n",
       "</table>\n",
       "</div>"
      ],
      "text/plain": [
       "         DATE  NUM_BIRTHS  YEAR  MONTH  DAY\n",
       "0  1992-01-01         219  1992      1    1\n",
       "1  1992-01-02         331  1992      1    2\n",
       "2  1992-01-03         420  1992      1    3\n",
       "3  1992-01-04         282  1992      1    4\n",
       "4  1992-01-05         252  1992      1    5"
      ]
     },
     "execution_count": 125,
     "metadata": {},
     "output_type": "execute_result"
    }
   ],
   "source": [
    "birthdates[\"NUM_BIRTHS\"] = pd.to_numeric(birthdates[\"NUM_BIRTHS\"]) # make int\n",
    "birthdates[\"MONTH\"] = pd.to_numeric(birthdates[\"MONTH\"]) # make int\n",
    "birthdates[\"YEAR\"] = pd.to_numeric(birthdates[\"YEAR\"]) # make int\n",
    "birthdates[\"DAY\"] = pd.to_numeric(birthdates[\"DAY\"]) # make int\n",
    "birthdates.head()"
   ]
  },
  {
   "cell_type": "code",
   "execution_count": 89,
   "metadata": {},
   "outputs": [
    {
     "data": {
      "text/plain": [
       "0        1992-01-01\n",
       "1        1992-01-02\n",
       "2        1992-01-03\n",
       "3        1992-01-04\n",
       "4        1992-01-05\n",
       "            ...    \n",
       "10588    2020-12-27\n",
       "10589    2020-12-28\n",
       "10590    2020-12-29\n",
       "10591    2020-12-30\n",
       "10592    2020-12-31\n",
       "Name: DATE, Length: 10593, dtype: object"
      ]
     },
     "execution_count": 89,
     "metadata": {},
     "output_type": "execute_result"
    }
   ],
   "source": [
    "birthdates[\"DATE\"]"
   ]
  },
  {
   "cell_type": "markdown",
   "metadata": {},
   "source": [
    "### discover the data"
   ]
  },
  {
   "cell_type": "code",
   "execution_count": 91,
   "metadata": {},
   "outputs": [
    {
     "data": {
      "text/plain": [
       "NUM_BIRTHS    int64\n",
       "MONTH         int64\n",
       "dtype: object"
      ]
     },
     "execution_count": 91,
     "metadata": {},
     "output_type": "execute_result"
    }
   ],
   "source": [
    "# yearly births\n",
    "results = birthdates.groupby(\"YEAR\").sum()\n",
    "results.dtypes"
   ]
  },
  {
   "cell_type": "code",
   "execution_count": 93,
   "metadata": {},
   "outputs": [
    {
     "data": {
      "image/png": "[encoded data removed]",
      "text/plain": [
       "<Figure size 432x288 with 1 Axes>"
      ]
     },
     "metadata": {
      "needs_background": "light"
     },
     "output_type": "display_data"
    }
   ],
   "source": [
    "import matplotlib.pyplot as plt\n",
    "\n",
    "results['NUM_BIRTHS']\n",
    "\n",
    "plt.bar(years, results[\"NUM_BIRTHS\"])\n",
    "plt.ylabel('total yearly belgian births')\n",
    "plt.xlabel(' year')\n",
    "plt.show()\n",
    "\n",
    "# Zijn pieken te verklaren?"
   ]
  },
  {
   "cell_type": "code",
   "execution_count": 94,
   "metadata": {},
   "outputs": [
    {
     "data": {
      "text/html": [
       "<div>\n",
       "<style scoped>\n",
       "    .dataframe tbody tr th:only-of-type {\n",
       "        vertical-align: middle;\n",
       "    }\n",
       "\n",
       "    .dataframe tbody tr th {\n",
       "        vertical-align: top;\n",
       "    }\n",
       "\n",
       "    .dataframe thead th {\n",
       "        text-align: right;\n",
       "    }\n",
       "</style>\n",
       "<table border=\"1\" class=\"dataframe\">\n",
       "  <thead>\n",
       "    <tr style=\"text-align: right;\">\n",
       "      <th></th>\n",
       "      <th>NUM_BIRTHS</th>\n",
       "      <th>YEAR</th>\n",
       "    </tr>\n",
       "    <tr>\n",
       "      <th>MONTH</th>\n",
       "      <th></th>\n",
       "      <th></th>\n",
       "    </tr>\n",
       "  </thead>\n",
       "  <tbody>\n",
       "    <tr>\n",
       "      <th>1</th>\n",
       "      <td>291449</td>\n",
       "      <td>1803394</td>\n",
       "    </tr>\n",
       "    <tr>\n",
       "      <th>2</th>\n",
       "      <td>267476</td>\n",
       "      <td>1644920</td>\n",
       "    </tr>\n",
       "    <tr>\n",
       "      <th>3</th>\n",
       "      <td>293062</td>\n",
       "      <td>1803394</td>\n",
       "    </tr>\n",
       "    <tr>\n",
       "      <th>4</th>\n",
       "      <td>284079</td>\n",
       "      <td>1745220</td>\n",
       "    </tr>\n",
       "    <tr>\n",
       "      <th>5</th>\n",
       "      <td>292925</td>\n",
       "      <td>1803394</td>\n",
       "    </tr>\n",
       "    <tr>\n",
       "      <th>6</th>\n",
       "      <td>292329</td>\n",
       "      <td>1745220</td>\n",
       "    </tr>\n",
       "    <tr>\n",
       "      <th>7</th>\n",
       "      <td>307935</td>\n",
       "      <td>1803394</td>\n",
       "    </tr>\n",
       "    <tr>\n",
       "      <th>8</th>\n",
       "      <td>300566</td>\n",
       "      <td>1803394</td>\n",
       "    </tr>\n",
       "    <tr>\n",
       "      <th>9</th>\n",
       "      <td>294875</td>\n",
       "      <td>1745220</td>\n",
       "    </tr>\n",
       "    <tr>\n",
       "      <th>10</th>\n",
       "      <td>294546</td>\n",
       "      <td>1803394</td>\n",
       "    </tr>\n",
       "    <tr>\n",
       "      <th>11</th>\n",
       "      <td>270943</td>\n",
       "      <td>1745220</td>\n",
       "    </tr>\n",
       "    <tr>\n",
       "      <th>12</th>\n",
       "      <td>282005</td>\n",
       "      <td>1803394</td>\n",
       "    </tr>\n",
       "  </tbody>\n",
       "</table>\n",
       "</div>"
      ],
      "text/plain": [
       "       NUM_BIRTHS     YEAR\n",
       "MONTH                     \n",
       "1          291449  1803394\n",
       "2          267476  1644920\n",
       "3          293062  1803394\n",
       "4          284079  1745220\n",
       "5          292925  1803394\n",
       "6          292329  1745220\n",
       "7          307935  1803394\n",
       "8          300566  1803394\n",
       "9          294875  1745220\n",
       "10         294546  1803394\n",
       "11         270943  1745220\n",
       "12         282005  1803394"
      ]
     },
     "execution_count": 94,
     "metadata": {},
     "output_type": "execute_result"
    }
   ],
   "source": [
    "# monthly births per year\n",
    "\n",
    "results = birthdates.groupby(\"MONTH\").sum()\n",
    "results"
   ]
  },
  {
   "cell_type": "code",
   "execution_count": 95,
   "metadata": {},
   "outputs": [
    {
     "data": {
      "image/png": "[encoded data removed]",
      "text/plain": [
       "<Figure size 432x288 with 1 Axes>"
      ]
     },
     "metadata": {
      "needs_background": "light"
     },
     "output_type": "display_data"
    }
   ],
   "source": [
    "results['NUM_BIRTHS']\n",
    "\n",
    "months = range(1,13)\n",
    "\n",
    "plt.bar(months, results[\"NUM_BIRTHS\"])\n",
    "plt.ylabel('total belgian births per month')\n",
    "plt.xlabel('months')\n",
    "plt.show()"
   ]
  },
  {
   "cell_type": "code",
   "execution_count": 126,
   "metadata": {},
   "outputs": [
    {
     "data": {
      "text/html": [
       "<div>\n",
       "<style scoped>\n",
       "    .dataframe tbody tr th:only-of-type {\n",
       "        vertical-align: middle;\n",
       "    }\n",
       "\n",
       "    .dataframe tbody tr th {\n",
       "        vertical-align: top;\n",
       "    }\n",
       "\n",
       "    .dataframe thead th {\n",
       "        text-align: right;\n",
       "    }\n",
       "</style>\n",
       "<table border=\"1\" class=\"dataframe\">\n",
       "  <thead>\n",
       "    <tr style=\"text-align: right;\">\n",
       "      <th></th>\n",
       "      <th>DATE</th>\n",
       "      <th>NUM_BIRTHS</th>\n",
       "      <th>YEAR</th>\n",
       "      <th>MONTH</th>\n",
       "      <th>DAY</th>\n",
       "    </tr>\n",
       "  </thead>\n",
       "  <tbody>\n",
       "    <tr>\n",
       "      <th>0</th>\n",
       "      <td>1992-01-01</td>\n",
       "      <td>219</td>\n",
       "      <td>1992</td>\n",
       "      <td>1</td>\n",
       "      <td>1</td>\n",
       "    </tr>\n",
       "    <tr>\n",
       "      <th>1</th>\n",
       "      <td>1992-01-02</td>\n",
       "      <td>331</td>\n",
       "      <td>1992</td>\n",
       "      <td>1</td>\n",
       "      <td>2</td>\n",
       "    </tr>\n",
       "    <tr>\n",
       "      <th>2</th>\n",
       "      <td>1992-01-03</td>\n",
       "      <td>420</td>\n",
       "      <td>1992</td>\n",
       "      <td>1</td>\n",
       "      <td>3</td>\n",
       "    </tr>\n",
       "    <tr>\n",
       "      <th>3</th>\n",
       "      <td>1992-01-04</td>\n",
       "      <td>282</td>\n",
       "      <td>1992</td>\n",
       "      <td>1</td>\n",
       "      <td>4</td>\n",
       "    </tr>\n",
       "    <tr>\n",
       "      <th>4</th>\n",
       "      <td>1992-01-05</td>\n",
       "      <td>252</td>\n",
       "      <td>1992</td>\n",
       "      <td>1</td>\n",
       "      <td>5</td>\n",
       "    </tr>\n",
       "    <tr>\n",
       "      <th>...</th>\n",
       "      <td>...</td>\n",
       "      <td>...</td>\n",
       "      <td>...</td>\n",
       "      <td>...</td>\n",
       "      <td>...</td>\n",
       "    </tr>\n",
       "    <tr>\n",
       "      <th>10588</th>\n",
       "      <td>2020-12-27</td>\n",
       "      <td>189</td>\n",
       "      <td>2020</td>\n",
       "      <td>12</td>\n",
       "      <td>27</td>\n",
       "    </tr>\n",
       "    <tr>\n",
       "      <th>10589</th>\n",
       "      <td>2020-12-28</td>\n",
       "      <td>351</td>\n",
       "      <td>2020</td>\n",
       "      <td>12</td>\n",
       "      <td>28</td>\n",
       "    </tr>\n",
       "    <tr>\n",
       "      <th>10590</th>\n",
       "      <td>2020-12-29</td>\n",
       "      <td>328</td>\n",
       "      <td>2020</td>\n",
       "      <td>12</td>\n",
       "      <td>29</td>\n",
       "    </tr>\n",
       "    <tr>\n",
       "      <th>10591</th>\n",
       "      <td>2020-12-30</td>\n",
       "      <td>293</td>\n",
       "      <td>2020</td>\n",
       "      <td>12</td>\n",
       "      <td>30</td>\n",
       "    </tr>\n",
       "    <tr>\n",
       "      <th>10592</th>\n",
       "      <td>2020-12-31</td>\n",
       "      <td>248</td>\n",
       "      <td>2020</td>\n",
       "      <td>12</td>\n",
       "      <td>31</td>\n",
       "    </tr>\n",
       "  </tbody>\n",
       "</table>\n",
       "<p>10593 rows × 5 columns</p>\n",
       "</div>"
      ],
      "text/plain": [
       "             DATE  NUM_BIRTHS  YEAR  MONTH  DAY\n",
       "0      1992-01-01         219  1992      1    1\n",
       "1      1992-01-02         331  1992      1    2\n",
       "2      1992-01-03         420  1992      1    3\n",
       "3      1992-01-04         282  1992      1    4\n",
       "4      1992-01-05         252  1992      1    5\n",
       "...           ...         ...   ...    ...  ...\n",
       "10588  2020-12-27         189  2020     12   27\n",
       "10589  2020-12-28         351  2020     12   28\n",
       "10590  2020-12-29         328  2020     12   29\n",
       "10591  2020-12-30         293  2020     12   30\n",
       "10592  2020-12-31         248  2020     12   31\n",
       "\n",
       "[10593 rows x 5 columns]"
      ]
     },
     "execution_count": 126,
     "metadata": {},
     "output_type": "execute_result"
    }
   ],
   "source": [
    "# births for each weekday\n",
    "birthdates"
   ]
  },
  {
   "cell_type": "code",
   "execution_count": null,
   "metadata": {},
   "outputs": [],
   "source": [
    "import datetime\n",
    "\n"
   ]
  },
  {
   "cell_type": "code",
   "execution_count": 147,
   "metadata": {},
   "outputs": [],
   "source": [
    "birthdates['WEEK_DAY_NUMERIC'] = birthdates.apply(lambda x: pd.Timestamp(x['DATE']).dayofweek, axis = 1)"
   ]
  },
  {
   "cell_type": "code",
   "execution_count": 151,
   "metadata": {},
   "outputs": [
    {
     "data": {
      "text/html": [
       "<div>\n",
       "<style scoped>\n",
       "    .dataframe tbody tr th:only-of-type {\n",
       "        vertical-align: middle;\n",
       "    }\n",
       "\n",
       "    .dataframe tbody tr th {\n",
       "        vertical-align: top;\n",
       "    }\n",
       "\n",
       "    .dataframe thead th {\n",
       "        text-align: right;\n",
       "    }\n",
       "</style>\n",
       "<table border=\"1\" class=\"dataframe\">\n",
       "  <thead>\n",
       "    <tr style=\"text-align: right;\">\n",
       "      <th></th>\n",
       "      <th>NUM_BIRTHS</th>\n",
       "      <th>YEAR</th>\n",
       "      <th>MONTH</th>\n",
       "      <th>DAY</th>\n",
       "      <th>WEEK_DAY</th>\n",
       "    </tr>\n",
       "    <tr>\n",
       "      <th>WEEK_DAY_NUMERIC</th>\n",
       "      <th></th>\n",
       "      <th></th>\n",
       "      <th></th>\n",
       "      <th></th>\n",
       "      <th></th>\n",
       "    </tr>\n",
       "  </thead>\n",
       "  <tbody>\n",
       "    <tr>\n",
       "      <th>0</th>\n",
       "      <td>542687</td>\n",
       "      <td>3035082</td>\n",
       "      <td>9870</td>\n",
       "      <td>23813</td>\n",
       "      <td>0</td>\n",
       "    </tr>\n",
       "    <tr>\n",
       "      <th>1</th>\n",
       "      <td>586702</td>\n",
       "      <td>3035086</td>\n",
       "      <td>9872</td>\n",
       "      <td>23804</td>\n",
       "      <td>1513</td>\n",
       "    </tr>\n",
       "    <tr>\n",
       "      <th>2</th>\n",
       "      <td>558255</td>\n",
       "      <td>3037082</td>\n",
       "      <td>9875</td>\n",
       "      <td>23796</td>\n",
       "      <td>3028</td>\n",
       "    </tr>\n",
       "    <tr>\n",
       "      <th>3</th>\n",
       "      <td>563883</td>\n",
       "      <td>3037086</td>\n",
       "      <td>9876</td>\n",
       "      <td>23819</td>\n",
       "      <td>4542</td>\n",
       "    </tr>\n",
       "    <tr>\n",
       "      <th>4</th>\n",
       "      <td>568757</td>\n",
       "      <td>3035070</td>\n",
       "      <td>9865</td>\n",
       "      <td>23810</td>\n",
       "      <td>6052</td>\n",
       "    </tr>\n",
       "    <tr>\n",
       "      <th>5</th>\n",
       "      <td>330844</td>\n",
       "      <td>3035074</td>\n",
       "      <td>9867</td>\n",
       "      <td>23800</td>\n",
       "      <td>7565</td>\n",
       "    </tr>\n",
       "    <tr>\n",
       "      <th>6</th>\n",
       "      <td>321062</td>\n",
       "      <td>3035078</td>\n",
       "      <td>9869</td>\n",
       "      <td>23792</td>\n",
       "      <td>9078</td>\n",
       "    </tr>\n",
       "  </tbody>\n",
       "</table>\n",
       "</div>"
      ],
      "text/plain": [
       "                  NUM_BIRTHS     YEAR  MONTH    DAY  WEEK_DAY\n",
       "WEEK_DAY_NUMERIC                                             \n",
       "0                     542687  3035082   9870  23813         0\n",
       "1                     586702  3035086   9872  23804      1513\n",
       "2                     558255  3037082   9875  23796      3028\n",
       "3                     563883  3037086   9876  23819      4542\n",
       "4                     568757  3035070   9865  23810      6052\n",
       "5                     330844  3035074   9867  23800      7565\n",
       "6                     321062  3035078   9869  23792      9078"
      ]
     },
     "execution_count": 151,
     "metadata": {},
     "output_type": "execute_result"
    }
   ],
   "source": [
    "birthdates_week = birthdates.groupby(by=[\"WEEK_DAY_NUMERIC\"]).sum()\n",
    "birthdates_week\n",
    "\n",
    "\n"
   ]
  },
  {
   "cell_type": "code",
   "execution_count": 155,
   "metadata": {},
   "outputs": [
    {
     "data": {
      "image/png": "[encoded data removed]",
      "text/plain": [
       "<Figure size 432x288 with 1 Axes>"
      ]
     },
     "metadata": {
      "needs_background": "light"
     },
     "output_type": "display_data"
    }
   ],
   "source": [
    "weekdays = range(0 , 7)\n",
    "plt.bar(weekdays,birthdates_week[\"NUM_BIRTHS\"])\n",
    "plt.ylabel('Aantal geboortes')\n",
    "plt.xlabel('dag')\n",
    "plt.show()"
   ]
  },
  {
   "cell_type": "markdown",
   "metadata": {},
   "source": [
    "Condlusion: in the weekend the number of births is significant lower then during the week. A possible explenation here fore is planned births and the availablity of doctors and assistants during the delivery."
   ]
  },
  {
   "cell_type": "code",
   "execution_count": 157,
   "metadata": {},
   "outputs": [
    {
     "data": {
      "text/html": [
       "<div>\n",
       "<style scoped>\n",
       "    .dataframe tbody tr th:only-of-type {\n",
       "        vertical-align: middle;\n",
       "    }\n",
       "\n",
       "    .dataframe tbody tr th {\n",
       "        vertical-align: top;\n",
       "    }\n",
       "\n",
       "    .dataframe thead th {\n",
       "        text-align: right;\n",
       "    }\n",
       "</style>\n",
       "<table border=\"1\" class=\"dataframe\">\n",
       "  <thead>\n",
       "    <tr style=\"text-align: right;\">\n",
       "      <th></th>\n",
       "      <th>DATE</th>\n",
       "      <th>NUM_BIRTHS</th>\n",
       "      <th>YEAR</th>\n",
       "      <th>MONTH</th>\n",
       "      <th>DAY</th>\n",
       "      <th>WEEK_DAY</th>\n",
       "      <th>WEEK_DAY_NUMERIC</th>\n",
       "      <th>WEEK_DAY_NAME</th>\n",
       "      <th>WEEK_NUMERIC</th>\n",
       "    </tr>\n",
       "  </thead>\n",
       "  <tbody>\n",
       "    <tr>\n",
       "      <th>0</th>\n",
       "      <td>1992-01-01</td>\n",
       "      <td>219</td>\n",
       "      <td>1992</td>\n",
       "      <td>1</td>\n",
       "      <td>1</td>\n",
       "      <td>2</td>\n",
       "      <td>2</td>\n",
       "      <td>&lt;built-in method day_name of Timestamp object ...</td>\n",
       "      <td>1</td>\n",
       "    </tr>\n",
       "    <tr>\n",
       "      <th>1</th>\n",
       "      <td>1992-01-02</td>\n",
       "      <td>331</td>\n",
       "      <td>1992</td>\n",
       "      <td>1</td>\n",
       "      <td>2</td>\n",
       "      <td>3</td>\n",
       "      <td>3</td>\n",
       "      <td>&lt;built-in method day_name of Timestamp object ...</td>\n",
       "      <td>1</td>\n",
       "    </tr>\n",
       "    <tr>\n",
       "      <th>2</th>\n",
       "      <td>1992-01-03</td>\n",
       "      <td>420</td>\n",
       "      <td>1992</td>\n",
       "      <td>1</td>\n",
       "      <td>3</td>\n",
       "      <td>4</td>\n",
       "      <td>4</td>\n",
       "      <td>&lt;built-in method day_name of Timestamp object ...</td>\n",
       "      <td>1</td>\n",
       "    </tr>\n",
       "    <tr>\n",
       "      <th>3</th>\n",
       "      <td>1992-01-04</td>\n",
       "      <td>282</td>\n",
       "      <td>1992</td>\n",
       "      <td>1</td>\n",
       "      <td>4</td>\n",
       "      <td>5</td>\n",
       "      <td>5</td>\n",
       "      <td>&lt;built-in method day_name of Timestamp object ...</td>\n",
       "      <td>1</td>\n",
       "    </tr>\n",
       "    <tr>\n",
       "      <th>4</th>\n",
       "      <td>1992-01-05</td>\n",
       "      <td>252</td>\n",
       "      <td>1992</td>\n",
       "      <td>1</td>\n",
       "      <td>5</td>\n",
       "      <td>6</td>\n",
       "      <td>6</td>\n",
       "      <td>&lt;built-in method day_name of Timestamp object ...</td>\n",
       "      <td>1</td>\n",
       "    </tr>\n",
       "    <tr>\n",
       "      <th>5</th>\n",
       "      <td>1992-01-06</td>\n",
       "      <td>400</td>\n",
       "      <td>1992</td>\n",
       "      <td>1</td>\n",
       "      <td>6</td>\n",
       "      <td>0</td>\n",
       "      <td>0</td>\n",
       "      <td>&lt;built-in method day_name of Timestamp object ...</td>\n",
       "      <td>2</td>\n",
       "    </tr>\n",
       "    <tr>\n",
       "      <th>6</th>\n",
       "      <td>1992-01-07</td>\n",
       "      <td>418</td>\n",
       "      <td>1992</td>\n",
       "      <td>1</td>\n",
       "      <td>7</td>\n",
       "      <td>1</td>\n",
       "      <td>1</td>\n",
       "      <td>&lt;built-in method day_name of Timestamp object ...</td>\n",
       "      <td>2</td>\n",
       "    </tr>\n",
       "    <tr>\n",
       "      <th>7</th>\n",
       "      <td>1992-01-08</td>\n",
       "      <td>426</td>\n",
       "      <td>1992</td>\n",
       "      <td>1</td>\n",
       "      <td>8</td>\n",
       "      <td>2</td>\n",
       "      <td>2</td>\n",
       "      <td>&lt;built-in method day_name of Timestamp object ...</td>\n",
       "      <td>2</td>\n",
       "    </tr>\n",
       "    <tr>\n",
       "      <th>8</th>\n",
       "      <td>1992-01-09</td>\n",
       "      <td>414</td>\n",
       "      <td>1992</td>\n",
       "      <td>1</td>\n",
       "      <td>9</td>\n",
       "      <td>3</td>\n",
       "      <td>3</td>\n",
       "      <td>&lt;built-in method day_name of Timestamp object ...</td>\n",
       "      <td>2</td>\n",
       "    </tr>\n",
       "    <tr>\n",
       "      <th>9</th>\n",
       "      <td>1992-01-10</td>\n",
       "      <td>413</td>\n",
       "      <td>1992</td>\n",
       "      <td>1</td>\n",
       "      <td>10</td>\n",
       "      <td>4</td>\n",
       "      <td>4</td>\n",
       "      <td>&lt;built-in method day_name of Timestamp object ...</td>\n",
       "      <td>2</td>\n",
       "    </tr>\n",
       "  </tbody>\n",
       "</table>\n",
       "</div>"
      ],
      "text/plain": [
       "         DATE  NUM_BIRTHS  YEAR  MONTH  DAY  WEEK_DAY  WEEK_DAY_NUMERIC  \\\n",
       "0  1992-01-01         219  1992      1    1         2                 2   \n",
       "1  1992-01-02         331  1992      1    2         3                 3   \n",
       "2  1992-01-03         420  1992      1    3         4                 4   \n",
       "3  1992-01-04         282  1992      1    4         5                 5   \n",
       "4  1992-01-05         252  1992      1    5         6                 6   \n",
       "5  1992-01-06         400  1992      1    6         0                 0   \n",
       "6  1992-01-07         418  1992      1    7         1                 1   \n",
       "7  1992-01-08         426  1992      1    8         2                 2   \n",
       "8  1992-01-09         414  1992      1    9         3                 3   \n",
       "9  1992-01-10         413  1992      1   10         4                 4   \n",
       "\n",
       "                                       WEEK_DAY_NAME  WEEK_NUMERIC  \n",
       "0  <built-in method day_name of Timestamp object ...             1  \n",
       "1  <built-in method day_name of Timestamp object ...             1  \n",
       "2  <built-in method day_name of Timestamp object ...             1  \n",
       "3  <built-in method day_name of Timestamp object ...             1  \n",
       "4  <built-in method day_name of Timestamp object ...             1  \n",
       "5  <built-in method day_name of Timestamp object ...             2  \n",
       "6  <built-in method day_name of Timestamp object ...             2  \n",
       "7  <built-in method day_name of Timestamp object ...             2  \n",
       "8  <built-in method day_name of Timestamp object ...             2  \n",
       "9  <built-in method day_name of Timestamp object ...             2  "
      ]
     },
     "execution_count": 157,
     "metadata": {},
     "output_type": "execute_result"
    }
   ],
   "source": [
    "# yearly alternations\n",
    "\n",
    "#because of the high weekly variations, we create an extra collumn \n",
    "birthdates['WEEK_NUMERIC'] = birthdates.apply(lambda x: pd.Timestamp(x['DATE']).week, axis = 1)\n"
   ]
  },
  {
   "cell_type": "code",
   "execution_count": 212,
   "metadata": {},
   "outputs": [
    {
     "data": {
      "text/html": [
       "<div>\n",
       "<style scoped>\n",
       "    .dataframe tbody tr th:only-of-type {\n",
       "        vertical-align: middle;\n",
       "    }\n",
       "\n",
       "    .dataframe tbody tr th {\n",
       "        vertical-align: top;\n",
       "    }\n",
       "\n",
       "    .dataframe thead th {\n",
       "        text-align: right;\n",
       "    }\n",
       "</style>\n",
       "<table border=\"1\" class=\"dataframe\">\n",
       "  <thead>\n",
       "    <tr style=\"text-align: right;\">\n",
       "      <th></th>\n",
       "      <th></th>\n",
       "      <th>NUM_BIRTHS</th>\n",
       "      <th>MONTH</th>\n",
       "      <th>DAY</th>\n",
       "      <th>WEEK_DAY</th>\n",
       "      <th>WEEK_DAY_NUMERIC</th>\n",
       "    </tr>\n",
       "    <tr>\n",
       "      <th>YEAR</th>\n",
       "      <th>WEEK_NUMERIC</th>\n",
       "      <th></th>\n",
       "      <th></th>\n",
       "      <th></th>\n",
       "      <th></th>\n",
       "      <th></th>\n",
       "    </tr>\n",
       "  </thead>\n",
       "  <tbody>\n",
       "    <tr>\n",
       "      <th rowspan=\"5\" valign=\"top\">1992</th>\n",
       "      <th>1</th>\n",
       "      <td>1504</td>\n",
       "      <td>5</td>\n",
       "      <td>15</td>\n",
       "      <td>20</td>\n",
       "      <td>20</td>\n",
       "    </tr>\n",
       "    <tr>\n",
       "      <th>2</th>\n",
       "      <td>2549</td>\n",
       "      <td>7</td>\n",
       "      <td>63</td>\n",
       "      <td>21</td>\n",
       "      <td>21</td>\n",
       "    </tr>\n",
       "    <tr>\n",
       "      <th>3</th>\n",
       "      <td>2385</td>\n",
       "      <td>7</td>\n",
       "      <td>112</td>\n",
       "      <td>21</td>\n",
       "      <td>21</td>\n",
       "    </tr>\n",
       "    <tr>\n",
       "      <th>4</th>\n",
       "      <td>2476</td>\n",
       "      <td>7</td>\n",
       "      <td>161</td>\n",
       "      <td>21</td>\n",
       "      <td>21</td>\n",
       "    </tr>\n",
       "    <tr>\n",
       "      <th>5</th>\n",
       "      <td>2443</td>\n",
       "      <td>9</td>\n",
       "      <td>148</td>\n",
       "      <td>21</td>\n",
       "      <td>21</td>\n",
       "    </tr>\n",
       "    <tr>\n",
       "      <th>...</th>\n",
       "      <th>...</th>\n",
       "      <td>...</td>\n",
       "      <td>...</td>\n",
       "      <td>...</td>\n",
       "      <td>...</td>\n",
       "      <td>...</td>\n",
       "    </tr>\n",
       "    <tr>\n",
       "      <th rowspan=\"5\" valign=\"top\">2020</th>\n",
       "      <th>49</th>\n",
       "      <td>1995</td>\n",
       "      <td>83</td>\n",
       "      <td>51</td>\n",
       "      <td>21</td>\n",
       "      <td>21</td>\n",
       "    </tr>\n",
       "    <tr>\n",
       "      <th>50</th>\n",
       "      <td>1920</td>\n",
       "      <td>84</td>\n",
       "      <td>70</td>\n",
       "      <td>21</td>\n",
       "      <td>21</td>\n",
       "    </tr>\n",
       "    <tr>\n",
       "      <th>51</th>\n",
       "      <td>2029</td>\n",
       "      <td>84</td>\n",
       "      <td>119</td>\n",
       "      <td>21</td>\n",
       "      <td>21</td>\n",
       "    </tr>\n",
       "    <tr>\n",
       "      <th>52</th>\n",
       "      <td>1781</td>\n",
       "      <td>84</td>\n",
       "      <td>168</td>\n",
       "      <td>21</td>\n",
       "      <td>21</td>\n",
       "    </tr>\n",
       "    <tr>\n",
       "      <th>53</th>\n",
       "      <td>1220</td>\n",
       "      <td>48</td>\n",
       "      <td>118</td>\n",
       "      <td>6</td>\n",
       "      <td>6</td>\n",
       "    </tr>\n",
       "  </tbody>\n",
       "</table>\n",
       "<p>1519 rows × 5 columns</p>\n",
       "</div>"
      ],
      "text/plain": [
       "                   NUM_BIRTHS  MONTH  DAY  WEEK_DAY  WEEK_DAY_NUMERIC\n",
       "YEAR WEEK_NUMERIC                                                    \n",
       "1992 1                   1504      5   15        20                20\n",
       "     2                   2549      7   63        21                21\n",
       "     3                   2385      7  112        21                21\n",
       "     4                   2476      7  161        21                21\n",
       "     5                   2443      9  148        21                21\n",
       "...                       ...    ...  ...       ...               ...\n",
       "2020 49                  1995     83   51        21                21\n",
       "     50                  1920     84   70        21                21\n",
       "     51                  2029     84  119        21                21\n",
       "     52                  1781     84  168        21                21\n",
       "     53                  1220     48  118         6                 6\n",
       "\n",
       "[1519 rows x 5 columns]"
      ]
     },
     "execution_count": 212,
     "metadata": {},
     "output_type": "execute_result"
    }
   ],
   "source": [
    "grouped_birthdates = birthdates.groupby(([ 'YEAR', \"WEEK_NUMERIC\"])).sum()\n",
    "grouped_birthdates"
   ]
  },
  {
   "cell_type": "code",
   "execution_count": 207,
   "metadata": {},
   "outputs": [
    {
     "data": {
      "text/plain": [
       "Index(['NUM_BIRTHS', 'MONTH', 'DAY', 'WEEK_DAY', 'WEEK_DAY_NUMERIC'], dtype='object')"
      ]
     },
     "execution_count": 207,
     "metadata": {},
     "output_type": "execute_result"
    }
   ],
   "source": [
    "grouped_birthdates.columns"
   ]
  },
  {
   "cell_type": "code",
   "execution_count": 208,
   "metadata": {},
   "outputs": [
    {
     "data": {
      "text/plain": [
       "pandas.core.frame.DataFrame"
      ]
     },
     "execution_count": 208,
     "metadata": {},
     "output_type": "execute_result"
    }
   ],
   "source": [
    "type(grouped_birthdates)"
   ]
  },
  {
   "cell_type": "code",
   "execution_count": 189,
   "metadata": {},
   "outputs": [
    {
     "data": {
      "text/html": [
       "<div>\n",
       "<style scoped>\n",
       "    .dataframe tbody tr th:only-of-type {\n",
       "        vertical-align: middle;\n",
       "    }\n",
       "\n",
       "    .dataframe tbody tr th {\n",
       "        vertical-align: top;\n",
       "    }\n",
       "\n",
       "    .dataframe thead th {\n",
       "        text-align: right;\n",
       "    }\n",
       "</style>\n",
       "<table border=\"1\" class=\"dataframe\">\n",
       "  <thead>\n",
       "    <tr style=\"text-align: right;\">\n",
       "      <th></th>\n",
       "      <th></th>\n",
       "      <th>NUM_BIRTHS</th>\n",
       "      <th>MONTH</th>\n",
       "      <th>DAY</th>\n",
       "      <th>WEEK_DAY</th>\n",
       "      <th>WEEK_DAY_NUMERIC</th>\n",
       "    </tr>\n",
       "    <tr>\n",
       "      <th>YEAR</th>\n",
       "      <th>WEEK_NUMERIC</th>\n",
       "      <th></th>\n",
       "      <th></th>\n",
       "      <th></th>\n",
       "      <th></th>\n",
       "      <th></th>\n",
       "    </tr>\n",
       "  </thead>\n",
       "  <tbody>\n",
       "    <tr>\n",
       "      <th rowspan=\"2\" valign=\"top\">1992</th>\n",
       "      <th>1</th>\n",
       "      <td>1504</td>\n",
       "      <td>5</td>\n",
       "      <td>15</td>\n",
       "      <td>20</td>\n",
       "      <td>20</td>\n",
       "    </tr>\n",
       "    <tr>\n",
       "      <th>53</th>\n",
       "      <td>1373</td>\n",
       "      <td>48</td>\n",
       "      <td>118</td>\n",
       "      <td>6</td>\n",
       "      <td>6</td>\n",
       "    </tr>\n",
       "    <tr>\n",
       "      <th rowspan=\"2\" valign=\"top\">1993</th>\n",
       "      <th>52</th>\n",
       "      <td>1656</td>\n",
       "      <td>60</td>\n",
       "      <td>145</td>\n",
       "      <td>10</td>\n",
       "      <td>10</td>\n",
       "    </tr>\n",
       "    <tr>\n",
       "      <th>53</th>\n",
       "      <td>604</td>\n",
       "      <td>3</td>\n",
       "      <td>6</td>\n",
       "      <td>15</td>\n",
       "      <td>15</td>\n",
       "    </tr>\n",
       "    <tr>\n",
       "      <th rowspan=\"2\" valign=\"top\">1998</th>\n",
       "      <th>1</th>\n",
       "      <td>873</td>\n",
       "      <td>4</td>\n",
       "      <td>10</td>\n",
       "      <td>18</td>\n",
       "      <td>18</td>\n",
       "    </tr>\n",
       "    <tr>\n",
       "      <th>53</th>\n",
       "      <td>1337</td>\n",
       "      <td>48</td>\n",
       "      <td>118</td>\n",
       "      <td>6</td>\n",
       "      <td>6</td>\n",
       "    </tr>\n",
       "    <tr>\n",
       "      <th rowspan=\"2\" valign=\"top\">1999</th>\n",
       "      <th>52</th>\n",
       "      <td>1513</td>\n",
       "      <td>60</td>\n",
       "      <td>145</td>\n",
       "      <td>10</td>\n",
       "      <td>10</td>\n",
       "    </tr>\n",
       "    <tr>\n",
       "      <th>53</th>\n",
       "      <td>648</td>\n",
       "      <td>3</td>\n",
       "      <td>6</td>\n",
       "      <td>15</td>\n",
       "      <td>15</td>\n",
       "    </tr>\n",
       "    <tr>\n",
       "      <th rowspan=\"2\" valign=\"top\">2004</th>\n",
       "      <th>1</th>\n",
       "      <td>873</td>\n",
       "      <td>4</td>\n",
       "      <td>10</td>\n",
       "      <td>18</td>\n",
       "      <td>18</td>\n",
       "    </tr>\n",
       "    <tr>\n",
       "      <th>53</th>\n",
       "      <td>1725</td>\n",
       "      <td>60</td>\n",
       "      <td>145</td>\n",
       "      <td>10</td>\n",
       "      <td>10</td>\n",
       "    </tr>\n",
       "    <tr>\n",
       "      <th>2005</th>\n",
       "      <th>53</th>\n",
       "      <td>375</td>\n",
       "      <td>2</td>\n",
       "      <td>3</td>\n",
       "      <td>11</td>\n",
       "      <td>11</td>\n",
       "    </tr>\n",
       "    <tr>\n",
       "      <th rowspan=\"2\" valign=\"top\">2009</th>\n",
       "      <th>1</th>\n",
       "      <td>1036</td>\n",
       "      <td>4</td>\n",
       "      <td>10</td>\n",
       "      <td>18</td>\n",
       "      <td>18</td>\n",
       "    </tr>\n",
       "    <tr>\n",
       "      <th>53</th>\n",
       "      <td>1402</td>\n",
       "      <td>48</td>\n",
       "      <td>118</td>\n",
       "      <td>6</td>\n",
       "      <td>6</td>\n",
       "    </tr>\n",
       "    <tr>\n",
       "      <th>2010</th>\n",
       "      <th>53</th>\n",
       "      <td>726</td>\n",
       "      <td>3</td>\n",
       "      <td>6</td>\n",
       "      <td>15</td>\n",
       "      <td>15</td>\n",
       "    </tr>\n",
       "    <tr>\n",
       "      <th rowspan=\"2\" valign=\"top\">2015</th>\n",
       "      <th>1</th>\n",
       "      <td>997</td>\n",
       "      <td>4</td>\n",
       "      <td>10</td>\n",
       "      <td>18</td>\n",
       "      <td>18</td>\n",
       "    </tr>\n",
       "    <tr>\n",
       "      <th>53</th>\n",
       "      <td>1411</td>\n",
       "      <td>48</td>\n",
       "      <td>118</td>\n",
       "      <td>6</td>\n",
       "      <td>6</td>\n",
       "    </tr>\n",
       "    <tr>\n",
       "      <th>2016</th>\n",
       "      <th>53</th>\n",
       "      <td>699</td>\n",
       "      <td>3</td>\n",
       "      <td>6</td>\n",
       "      <td>15</td>\n",
       "      <td>15</td>\n",
       "    </tr>\n",
       "    <tr>\n",
       "      <th rowspan=\"3\" valign=\"top\">2020</th>\n",
       "      <th>1</th>\n",
       "      <td>1344</td>\n",
       "      <td>5</td>\n",
       "      <td>15</td>\n",
       "      <td>20</td>\n",
       "      <td>20</td>\n",
       "    </tr>\n",
       "    <tr>\n",
       "      <th>52</th>\n",
       "      <td>1781</td>\n",
       "      <td>84</td>\n",
       "      <td>168</td>\n",
       "      <td>21</td>\n",
       "      <td>21</td>\n",
       "    </tr>\n",
       "    <tr>\n",
       "      <th>53</th>\n",
       "      <td>1220</td>\n",
       "      <td>48</td>\n",
       "      <td>118</td>\n",
       "      <td>6</td>\n",
       "      <td>6</td>\n",
       "    </tr>\n",
       "  </tbody>\n",
       "</table>\n",
       "</div>"
      ],
      "text/plain": [
       "                   NUM_BIRTHS  MONTH  DAY  WEEK_DAY  WEEK_DAY_NUMERIC\n",
       "YEAR WEEK_NUMERIC                                                    \n",
       "1992 1                   1504      5   15        20                20\n",
       "     53                  1373     48  118         6                 6\n",
       "1993 52                  1656     60  145        10                10\n",
       "     53                   604      3    6        15                15\n",
       "1998 1                    873      4   10        18                18\n",
       "     53                  1337     48  118         6                 6\n",
       "1999 52                  1513     60  145        10                10\n",
       "     53                   648      3    6        15                15\n",
       "2004 1                    873      4   10        18                18\n",
       "     53                  1725     60  145        10                10\n",
       "2005 53                   375      2    3        11                11\n",
       "2009 1                   1036      4   10        18                18\n",
       "     53                  1402     48  118         6                 6\n",
       "2010 53                   726      3    6        15                15\n",
       "2015 1                    997      4   10        18                18\n",
       "     53                  1411     48  118         6                 6\n",
       "2016 53                   699      3    6        15                15\n",
       "2020 1                   1344      5   15        20                20\n",
       "     52                  1781     84  168        21                21\n",
       "     53                  1220     48  118         6                 6"
      ]
     },
     "execution_count": 189,
     "metadata": {},
     "output_type": "execute_result"
    }
   ],
   "source": [
    "grouped_birthdates[grouped_birthdates['NUM_BIRTHS']<1800]"
   ]
  },
  {
   "cell_type": "code",
   "execution_count": null,
   "metadata": {},
   "outputs": [],
   "source": []
  },
  {
   "cell_type": "code",
   "execution_count": null,
   "metadata": {},
   "outputs": [],
   "source": []
  },
  {
   "cell_type": "code",
   "execution_count": 222,
   "metadata": {},
   "outputs": [
    {
     "data": {
      "text/plain": [
       "(0.0, 130000.0)"
      ]
     },
     "execution_count": 222,
     "metadata": {},
     "output_type": "execute_result"
    },
    {
     "data": {
      "image/png": "[encoded data removed]",
      "text/plain": [
       "<Figure size 432x288 with 1 Axes>"
      ]
     },
     "metadata": {
      "needs_background": "light"
     },
     "output_type": "display_data"
    }
   ],
   "source": [
    "birthdates.groupby(['YEAR']).sum()['NUM_BIRTHS'].plot(legend = False, marker = 'o', linestyle = '--')\n",
    "\n",
    "plt.ylabel(\"yearly births\")\n",
    "plt.xlabel(\"year\")\n",
    "plt.title(\"births in Belgium through the ages\")\n",
    "plt.ylim(0,130000)"
   ]
  },
  {
   "cell_type": "code",
   "execution_count": 223,
   "metadata": {},
   "outputs": [
    {
     "data": {
      "text/plain": [
       "Text(0.5, 1.0, 'births in Belgium through the ages')"
      ]
     },
     "execution_count": 223,
     "metadata": {},
     "output_type": "execute_result"
    },
    {
     "data": {
      "image/png": "[encoded data removed]",
      "text/plain": [
       "<Figure size 432x288 with 1 Axes>"
      ]
     },
     "metadata": {
      "needs_background": "light"
     },
     "output_type": "display_data"
    }
   ],
   "source": [
    "birthdates.groupby(['YEAR']).sum()['NUM_BIRTHS'].plot(legend = False, marker = 'o', linestyle = '--')\n",
    "\n",
    "plt.ylabel(\"yearly births\")\n",
    "plt.xlabel(\"year\")\n",
    "plt.title(\"births in Belgium through the ages\")"
   ]
  },
  {
   "cell_type": "code",
   "execution_count": 229,
   "metadata": {},
   "outputs": [
    {
     "data": {
      "text/html": [
       "<div>\n",
       "<style scoped>\n",
       "    .dataframe tbody tr th:only-of-type {\n",
       "        vertical-align: middle;\n",
       "    }\n",
       "\n",
       "    .dataframe tbody tr th {\n",
       "        vertical-align: top;\n",
       "    }\n",
       "\n",
       "    .dataframe thead th {\n",
       "        text-align: right;\n",
       "    }\n",
       "</style>\n",
       "<table border=\"1\" class=\"dataframe\">\n",
       "  <thead>\n",
       "    <tr style=\"text-align: right;\">\n",
       "      <th></th>\n",
       "      <th>DATE</th>\n",
       "      <th>NUM_BIRTHS</th>\n",
       "      <th>YEAR</th>\n",
       "      <th>MONTH</th>\n",
       "      <th>DAY</th>\n",
       "      <th>WEEK_DAY</th>\n",
       "      <th>WEEK_DAY_NUMERIC</th>\n",
       "      <th>WEEK_DAY_NAME</th>\n",
       "    </tr>\n",
       "    <tr>\n",
       "      <th>WEEK_NUMERIC</th>\n",
       "      <th></th>\n",
       "      <th></th>\n",
       "      <th></th>\n",
       "      <th></th>\n",
       "      <th></th>\n",
       "      <th></th>\n",
       "      <th></th>\n",
       "      <th></th>\n",
       "    </tr>\n",
       "  </thead>\n",
       "  <tbody>\n",
       "    <tr>\n",
       "      <th>1</th>\n",
       "      <td>1992-01-01</td>\n",
       "      <td>219</td>\n",
       "      <td>1992</td>\n",
       "      <td>1</td>\n",
       "      <td>1</td>\n",
       "      <td>2</td>\n",
       "      <td>2</td>\n",
       "      <td>&lt;built-in method day_name of Timestamp object ...</td>\n",
       "    </tr>\n",
       "    <tr>\n",
       "      <th>1</th>\n",
       "      <td>1992-01-02</td>\n",
       "      <td>331</td>\n",
       "      <td>1992</td>\n",
       "      <td>1</td>\n",
       "      <td>2</td>\n",
       "      <td>3</td>\n",
       "      <td>3</td>\n",
       "      <td>&lt;built-in method day_name of Timestamp object ...</td>\n",
       "    </tr>\n",
       "    <tr>\n",
       "      <th>1</th>\n",
       "      <td>1992-01-03</td>\n",
       "      <td>420</td>\n",
       "      <td>1992</td>\n",
       "      <td>1</td>\n",
       "      <td>3</td>\n",
       "      <td>4</td>\n",
       "      <td>4</td>\n",
       "      <td>&lt;built-in method day_name of Timestamp object ...</td>\n",
       "    </tr>\n",
       "    <tr>\n",
       "      <th>1</th>\n",
       "      <td>1992-01-04</td>\n",
       "      <td>282</td>\n",
       "      <td>1992</td>\n",
       "      <td>1</td>\n",
       "      <td>4</td>\n",
       "      <td>5</td>\n",
       "      <td>5</td>\n",
       "      <td>&lt;built-in method day_name of Timestamp object ...</td>\n",
       "    </tr>\n",
       "    <tr>\n",
       "      <th>1</th>\n",
       "      <td>1992-01-05</td>\n",
       "      <td>252</td>\n",
       "      <td>1992</td>\n",
       "      <td>1</td>\n",
       "      <td>5</td>\n",
       "      <td>6</td>\n",
       "      <td>6</td>\n",
       "      <td>&lt;built-in method day_name of Timestamp object ...</td>\n",
       "    </tr>\n",
       "    <tr>\n",
       "      <th>...</th>\n",
       "      <td>...</td>\n",
       "      <td>...</td>\n",
       "      <td>...</td>\n",
       "      <td>...</td>\n",
       "      <td>...</td>\n",
       "      <td>...</td>\n",
       "      <td>...</td>\n",
       "      <td>...</td>\n",
       "    </tr>\n",
       "    <tr>\n",
       "      <th>52</th>\n",
       "      <td>2020-12-27</td>\n",
       "      <td>189</td>\n",
       "      <td>2020</td>\n",
       "      <td>12</td>\n",
       "      <td>27</td>\n",
       "      <td>6</td>\n",
       "      <td>6</td>\n",
       "      <td>&lt;built-in method day_name of Timestamp object ...</td>\n",
       "    </tr>\n",
       "    <tr>\n",
       "      <th>53</th>\n",
       "      <td>2020-12-28</td>\n",
       "      <td>351</td>\n",
       "      <td>2020</td>\n",
       "      <td>12</td>\n",
       "      <td>28</td>\n",
       "      <td>0</td>\n",
       "      <td>0</td>\n",
       "      <td>&lt;built-in method day_name of Timestamp object ...</td>\n",
       "    </tr>\n",
       "    <tr>\n",
       "      <th>53</th>\n",
       "      <td>2020-12-29</td>\n",
       "      <td>328</td>\n",
       "      <td>2020</td>\n",
       "      <td>12</td>\n",
       "      <td>29</td>\n",
       "      <td>1</td>\n",
       "      <td>1</td>\n",
       "      <td>&lt;built-in method day_name of Timestamp object ...</td>\n",
       "    </tr>\n",
       "    <tr>\n",
       "      <th>53</th>\n",
       "      <td>2020-12-30</td>\n",
       "      <td>293</td>\n",
       "      <td>2020</td>\n",
       "      <td>12</td>\n",
       "      <td>30</td>\n",
       "      <td>2</td>\n",
       "      <td>2</td>\n",
       "      <td>&lt;built-in method day_name of Timestamp object ...</td>\n",
       "    </tr>\n",
       "    <tr>\n",
       "      <th>53</th>\n",
       "      <td>2020-12-31</td>\n",
       "      <td>248</td>\n",
       "      <td>2020</td>\n",
       "      <td>12</td>\n",
       "      <td>31</td>\n",
       "      <td>3</td>\n",
       "      <td>3</td>\n",
       "      <td>&lt;built-in method day_name of Timestamp object ...</td>\n",
       "    </tr>\n",
       "  </tbody>\n",
       "</table>\n",
       "<p>10593 rows × 8 columns</p>\n",
       "</div>"
      ],
      "text/plain": [
       "                    DATE  NUM_BIRTHS  YEAR  MONTH  DAY  WEEK_DAY  \\\n",
       "WEEK_NUMERIC                                                       \n",
       "1             1992-01-01         219  1992      1    1         2   \n",
       "1             1992-01-02         331  1992      1    2         3   \n",
       "1             1992-01-03         420  1992      1    3         4   \n",
       "1             1992-01-04         282  1992      1    4         5   \n",
       "1             1992-01-05         252  1992      1    5         6   \n",
       "...                  ...         ...   ...    ...  ...       ...   \n",
       "52            2020-12-27         189  2020     12   27         6   \n",
       "53            2020-12-28         351  2020     12   28         0   \n",
       "53            2020-12-29         328  2020     12   29         1   \n",
       "53            2020-12-30         293  2020     12   30         2   \n",
       "53            2020-12-31         248  2020     12   31         3   \n",
       "\n",
       "              WEEK_DAY_NUMERIC  \\\n",
       "WEEK_NUMERIC                     \n",
       "1                            2   \n",
       "1                            3   \n",
       "1                            4   \n",
       "1                            5   \n",
       "1                            6   \n",
       "...                        ...   \n",
       "52                           6   \n",
       "53                           0   \n",
       "53                           1   \n",
       "53                           2   \n",
       "53                           3   \n",
       "\n",
       "                                                  WEEK_DAY_NAME  \n",
       "WEEK_NUMERIC                                                     \n",
       "1             <built-in method day_name of Timestamp object ...  \n",
       "1             <built-in method day_name of Timestamp object ...  \n",
       "1             <built-in method day_name of Timestamp object ...  \n",
       "1             <built-in method day_name of Timestamp object ...  \n",
       "1             <built-in method day_name of Timestamp object ...  \n",
       "...                                                         ...  \n",
       "52            <built-in method day_name of Timestamp object ...  \n",
       "53            <built-in method day_name of Timestamp object ...  \n",
       "53            <built-in method day_name of Timestamp object ...  \n",
       "53            <built-in method day_name of Timestamp object ...  \n",
       "53            <built-in method day_name of Timestamp object ...  \n",
       "\n",
       "[10593 rows x 8 columns]"
      ]
     },
     "execution_count": 229,
     "metadata": {},
     "output_type": "execute_result"
    }
   ],
   "source": [
    "birthdates.reset_index()\n",
    "birthdates\n"
   ]
  },
  {
   "cell_type": "code",
   "execution_count": 236,
   "metadata": {},
   "outputs": [
    {
     "data": {
      "text/html": [
       "<div>\n",
       "<style scoped>\n",
       "    .dataframe tbody tr th:only-of-type {\n",
       "        vertical-align: middle;\n",
       "    }\n",
       "\n",
       "    .dataframe tbody tr th {\n",
       "        vertical-align: top;\n",
       "    }\n",
       "\n",
       "    .dataframe thead th {\n",
       "        text-align: right;\n",
       "    }\n",
       "</style>\n",
       "<table border=\"1\" class=\"dataframe\">\n",
       "  <thead>\n",
       "    <tr style=\"text-align: right;\">\n",
       "      <th></th>\n",
       "      <th></th>\n",
       "      <th>NUM_BIRTHS</th>\n",
       "      <th>MONTH</th>\n",
       "      <th>DAY</th>\n",
       "      <th>WEEK_DAY</th>\n",
       "      <th>WEEK_DAY_NUMERIC</th>\n",
       "    </tr>\n",
       "    <tr>\n",
       "      <th>YEAR</th>\n",
       "      <th>WEEK_NUMERIC</th>\n",
       "      <th></th>\n",
       "      <th></th>\n",
       "      <th></th>\n",
       "      <th></th>\n",
       "      <th></th>\n",
       "    </tr>\n",
       "  </thead>\n",
       "  <tbody>\n",
       "    <tr>\n",
       "      <th rowspan=\"5\" valign=\"top\">1992</th>\n",
       "      <th>1</th>\n",
       "      <td>1504</td>\n",
       "      <td>5</td>\n",
       "      <td>15</td>\n",
       "      <td>20</td>\n",
       "      <td>20</td>\n",
       "    </tr>\n",
       "    <tr>\n",
       "      <th>2</th>\n",
       "      <td>2549</td>\n",
       "      <td>7</td>\n",
       "      <td>63</td>\n",
       "      <td>21</td>\n",
       "      <td>21</td>\n",
       "    </tr>\n",
       "    <tr>\n",
       "      <th>3</th>\n",
       "      <td>2385</td>\n",
       "      <td>7</td>\n",
       "      <td>112</td>\n",
       "      <td>21</td>\n",
       "      <td>21</td>\n",
       "    </tr>\n",
       "    <tr>\n",
       "      <th>4</th>\n",
       "      <td>2476</td>\n",
       "      <td>7</td>\n",
       "      <td>161</td>\n",
       "      <td>21</td>\n",
       "      <td>21</td>\n",
       "    </tr>\n",
       "    <tr>\n",
       "      <th>5</th>\n",
       "      <td>2443</td>\n",
       "      <td>9</td>\n",
       "      <td>148</td>\n",
       "      <td>21</td>\n",
       "      <td>21</td>\n",
       "    </tr>\n",
       "    <tr>\n",
       "      <th>...</th>\n",
       "      <th>...</th>\n",
       "      <td>...</td>\n",
       "      <td>...</td>\n",
       "      <td>...</td>\n",
       "      <td>...</td>\n",
       "      <td>...</td>\n",
       "    </tr>\n",
       "    <tr>\n",
       "      <th rowspan=\"5\" valign=\"top\">2020</th>\n",
       "      <th>49</th>\n",
       "      <td>1995</td>\n",
       "      <td>83</td>\n",
       "      <td>51</td>\n",
       "      <td>21</td>\n",
       "      <td>21</td>\n",
       "    </tr>\n",
       "    <tr>\n",
       "      <th>50</th>\n",
       "      <td>1920</td>\n",
       "      <td>84</td>\n",
       "      <td>70</td>\n",
       "      <td>21</td>\n",
       "      <td>21</td>\n",
       "    </tr>\n",
       "    <tr>\n",
       "      <th>51</th>\n",
       "      <td>2029</td>\n",
       "      <td>84</td>\n",
       "      <td>119</td>\n",
       "      <td>21</td>\n",
       "      <td>21</td>\n",
       "    </tr>\n",
       "    <tr>\n",
       "      <th>52</th>\n",
       "      <td>1781</td>\n",
       "      <td>84</td>\n",
       "      <td>168</td>\n",
       "      <td>21</td>\n",
       "      <td>21</td>\n",
       "    </tr>\n",
       "    <tr>\n",
       "      <th>53</th>\n",
       "      <td>1220</td>\n",
       "      <td>48</td>\n",
       "      <td>118</td>\n",
       "      <td>6</td>\n",
       "      <td>6</td>\n",
       "    </tr>\n",
       "  </tbody>\n",
       "</table>\n",
       "<p>1519 rows × 5 columns</p>\n",
       "</div>"
      ],
      "text/plain": [
       "                   NUM_BIRTHS  MONTH  DAY  WEEK_DAY  WEEK_DAY_NUMERIC\n",
       "YEAR WEEK_NUMERIC                                                    \n",
       "1992 1                   1504      5   15        20                20\n",
       "     2                   2549      7   63        21                21\n",
       "     3                   2385      7  112        21                21\n",
       "     4                   2476      7  161        21                21\n",
       "     5                   2443      9  148        21                21\n",
       "...                       ...    ...  ...       ...               ...\n",
       "2020 49                  1995     83   51        21                21\n",
       "     50                  1920     84   70        21                21\n",
       "     51                  2029     84  119        21                21\n",
       "     52                  1781     84  168        21                21\n",
       "     53                  1220     48  118         6                 6\n",
       "\n",
       "[1519 rows x 5 columns]"
      ]
     },
     "execution_count": 236,
     "metadata": {},
     "output_type": "execute_result"
    }
   ],
   "source": [
    "gb = birthdates.groupby([\"YEAR\", \"WEEK_NUMERIC\",]).sum()\n",
    "gb"
   ]
  },
  {
   "cell_type": "code",
   "execution_count": 240,
   "metadata": {},
   "outputs": [
    {
     "data": {
      "text/plain": [
       "MultiIndex([(1992,  1),\n",
       "            (1992,  2),\n",
       "            (1992,  3),\n",
       "            (1992,  4),\n",
       "            (1992,  5),\n",
       "            (1992,  6),\n",
       "            (1992,  7),\n",
       "            (1992,  8),\n",
       "            (1992,  9),\n",
       "            (1992, 10),\n",
       "            ...\n",
       "            (2020, 44),\n",
       "            (2020, 45),\n",
       "            (2020, 46),\n",
       "            (2020, 47),\n",
       "            (2020, 48),\n",
       "            (2020, 49),\n",
       "            (2020, 50),\n",
       "            (2020, 51),\n",
       "            (2020, 52),\n",
       "            (2020, 53)],\n",
       "           names=['YEAR', 'WEEK_NUMERIC'], length=1519)"
      ]
     },
     "execution_count": 240,
     "metadata": {},
     "output_type": "execute_result"
    }
   ],
   "source": [
    "type(gb)\n",
    "gb.index['YEAR', 'WEEK_NUMERIC']"
   ]
  },
  {
   "cell_type": "code",
   "execution_count": 243,
   "metadata": {},
   "outputs": [
    {
     "data": {
      "text/plain": [
       "array([(1992, 1), (1992, 2), (1992, 3), ..., (2020, 51), (2020, 52),\n",
       "       (2020, 53)], dtype=object)"
      ]
     },
     "execution_count": 243,
     "metadata": {},
     "output_type": "execute_result"
    }
   ],
   "source": [
    "gb.index.values"
   ]
  },
  {
   "cell_type": "code",
   "execution_count": 201,
   "metadata": {},
   "outputs": [
    {
     "ename": "AttributeError",
     "evalue": "'DataFrame' object has no attribute 'get_group'",
     "output_type": "error",
     "traceback": [
      "\u001b[0;31m---------------------------------------------------------------------------\u001b[0m",
      "\u001b[0;31mAttributeError\u001b[0m                            Traceback (most recent call last)",
      "\u001b[0;32m<ipython-input-201-464c842b33cf>\u001b[0m in \u001b[0;36m<module>\u001b[0;34m\u001b[0m\n\u001b[1;32m      1\u001b[0m \u001b[0mgrouped_weekly_numbirths\u001b[0m \u001b[0;34m=\u001b[0m \u001b[0mgrouped_birthdates\u001b[0m\u001b[0;34m[\u001b[0m\u001b[0;34m'NUM_BIRTHS'\u001b[0m\u001b[0;34m]\u001b[0m\u001b[0;34m\u001b[0m\u001b[0;34m\u001b[0m\u001b[0m\n\u001b[0;32m----> 2\u001b[0;31m \u001b[0mgrouped_birthdates\u001b[0m\u001b[0;34m.\u001b[0m\u001b[0mget_group\u001b[0m\u001b[0;34m(\u001b[0m\u001b[0;34m\"1992\"\u001b[0m\u001b[0;34m)\u001b[0m\u001b[0;34m\u001b[0m\u001b[0;34m\u001b[0m\u001b[0m\n\u001b[0m",
      "\u001b[0;32m~/ENTER/lib/python3.8/site-packages/pandas/core/generic.py\u001b[0m in \u001b[0;36m__getattr__\u001b[0;34m(self, name)\u001b[0m\n\u001b[1;32m   5463\u001b[0m             \u001b[0;32mif\u001b[0m \u001b[0mself\u001b[0m\u001b[0;34m.\u001b[0m\u001b[0m_info_axis\u001b[0m\u001b[0;34m.\u001b[0m\u001b[0m_can_hold_identifiers_and_holds_name\u001b[0m\u001b[0;34m(\u001b[0m\u001b[0mname\u001b[0m\u001b[0;34m)\u001b[0m\u001b[0;34m:\u001b[0m\u001b[0;34m\u001b[0m\u001b[0;34m\u001b[0m\u001b[0m\n\u001b[1;32m   5464\u001b[0m                 \u001b[0;32mreturn\u001b[0m \u001b[0mself\u001b[0m\u001b[0;34m[\u001b[0m\u001b[0mname\u001b[0m\u001b[0;34m]\u001b[0m\u001b[0;34m\u001b[0m\u001b[0;34m\u001b[0m\u001b[0m\n\u001b[0;32m-> 5465\u001b[0;31m             \u001b[0;32mreturn\u001b[0m \u001b[0mobject\u001b[0m\u001b[0;34m.\u001b[0m\u001b[0m__getattribute__\u001b[0m\u001b[0;34m(\u001b[0m\u001b[0mself\u001b[0m\u001b[0;34m,\u001b[0m \u001b[0mname\u001b[0m\u001b[0;34m)\u001b[0m\u001b[0;34m\u001b[0m\u001b[0;34m\u001b[0m\u001b[0m\n\u001b[0m\u001b[1;32m   5466\u001b[0m \u001b[0;34m\u001b[0m\u001b[0m\n\u001b[1;32m   5467\u001b[0m     \u001b[0;32mdef\u001b[0m \u001b[0m__setattr__\u001b[0m\u001b[0;34m(\u001b[0m\u001b[0mself\u001b[0m\u001b[0;34m,\u001b[0m \u001b[0mname\u001b[0m\u001b[0;34m:\u001b[0m \u001b[0mstr\u001b[0m\u001b[0;34m,\u001b[0m \u001b[0mvalue\u001b[0m\u001b[0;34m)\u001b[0m \u001b[0;34m->\u001b[0m \u001b[0;32mNone\u001b[0m\u001b[0;34m:\u001b[0m\u001b[0;34m\u001b[0m\u001b[0;34m\u001b[0m\u001b[0m\n",
      "\u001b[0;31mAttributeError\u001b[0m: 'DataFrame' object has no attribute 'get_group'"
     ]
    }
   ],
   "source": [
    "grouped_weekly_numbirths = grouped_birthdates['NUM_BIRTHS']\n",
    "grouped_birthdates.get_group(\"1992\")"
   ]
  },
  {
   "cell_type": "code",
   "execution_count": 180,
   "metadata": {},
   "outputs": [
    {
     "data": {
      "text/plain": [
       "pandas.core.series.Series"
      ]
     },
     "execution_count": 180,
     "metadata": {},
     "output_type": "execute_result"
    }
   ],
   "source": [
    "type(grouped_weekly_numbirths)"
   ]
  },
  {
   "cell_type": "code",
   "execution_count": 191,
   "metadata": {},
   "outputs": [
    {
     "data": {
      "text/plain": [
       "2549"
      ]
     },
     "execution_count": 191,
     "metadata": {},
     "output_type": "execute_result"
    }
   ],
   "source": [
    "grouped_weekly_numbirths.iloc[1]"
   ]
  },
  {
   "cell_type": "code",
   "execution_count": 188,
   "metadata": {},
   "outputs": [
    {
     "data": {
      "text/plain": [
       "<AxesSubplot:xlabel='YEAR,WEEK_NUMERIC'>"
      ]
     },
     "execution_count": 188,
     "metadata": {},
     "output_type": "execute_result"
    },
    {
     "data": {
      "image/png": "[encoded data removed]",
      "text/plain": [
       "<Figure size 432x288 with 1 Axes>"
      ]
     },
     "metadata": {
      "needs_background": "light"
     },
     "output_type": "display_data"
    }
   ],
   "source": [
    "grouped_weekly_numbirths.plot()"
   ]
  },
  {
   "cell_type": "code",
   "execution_count": 165,
   "metadata": {},
   "outputs": [
    {
     "data": {
      "text/plain": [
       "<AxesSubplot:xlabel='YEAR,WEEK_NUMERIC'>"
      ]
     },
     "execution_count": 165,
     "metadata": {},
     "output_type": "execute_result"
    },
    {
     "data": {
      "image/png": "[encoded data removed]",
      "text/plain": [
       "<Figure size 1080x504 with 1 Axes>"
      ]
     },
     "metadata": {
      "needs_background": "light"
     },
     "output_type": "display_data"
    }
   ],
   "source": [
    "birthdates_week = birthdates.groupby(([ 'YEAR', \"WEEK_NUMERIC\"])).sum()\n",
    "birthdates_week.head(10)\n",
    "\n",
    "fig, ax = plt.subplots(figsize=(15,7))\n",
    "birthdates.groupby([ 'YEAR', \"WEEK_NUMERIC\"]).count()['NUM_BIRTHS'].plot(ax=ax)\n",
    "\n",
    "#data_year = data[data['YEAR'] == year]\n",
    "#time = range(0 , len(data_year))\n",
    "    \n",
    "#plt.plot(time, data_year['NUM_BIRTHS'])\n",
    "    \n",
    "    #plt.bar(months, results[\"NUM_BIRTHS\"])\n",
    "    #plt.ylabel('total belgian births per month')\n",
    "    #plt.xlabel('months')\n",
    "    #plt.show()\n",
    "    "
   ]
  },
  {
   "cell_type": "code",
   "execution_count": 121,
   "metadata": {},
   "outputs": [
    {
     "data": {
      "image/png": "[encoded data removed]",
      "text/plain": [
       "<Figure size 432x288 with 1 Axes>"
      ]
     },
     "metadata": {
      "needs_background": "light"
     },
     "output_type": "display_data"
    }
   ],
   "source": [
    "print_year(1993, birthdates)"
   ]
  },
  {
   "cell_type": "code",
   "execution_count": 108,
   "metadata": {},
   "outputs": [
    {
     "data": {
      "text/plain": [
       "365"
      ]
     },
     "execution_count": 108,
     "metadata": {},
     "output_type": "execute_result"
    }
   ],
   "source": [
    " len(data_year)"
   ]
  },
  {
   "cell_type": "code",
   "execution_count": 113,
   "metadata": {},
   "outputs": [],
   "source": [
    "a = range(0 , len(data_year))"
   ]
  },
  {
   "cell_type": "code",
   "execution_count": 114,
   "metadata": {},
   "outputs": [
    {
     "data": {
      "text/plain": [
       "range(0, 365)"
      ]
     },
     "execution_count": 114,
     "metadata": {},
     "output_type": "execute_result"
    }
   ],
   "source": [
    "a\n"
   ]
  },
  {
   "cell_type": "code",
   "execution_count": null,
   "metadata": {},
   "outputs": [],
   "source": []
  }
 ],
 "metadata": {
  "kernelspec": {
   "display_name": "Python 3",
   "language": "python",
   "name": "python3"
  },
  "language_info": {
   "codemirror_mode": {
    "name": "ipython",
    "version": 3
   },
   "file_extension": ".py",
   "mimetype": "text/x-python",
   "name": "python",
   "nbconvert_exporter": "python",
   "pygments_lexer": "ipython3",
   "version": "3.8.8"
  }
 },
 "nbformat": 4,
 "nbformat_minor": 2
}
